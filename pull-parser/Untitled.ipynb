{
 "cells": [
  {
   "cell_type": "code",
   "execution_count": 5,
   "metadata": {
    "collapsed": false
   },
   "outputs": [
    {
     "name": "stdout",
     "output_type": "stream",
     "text": [
      "<root xmlns:th=\"http://www.blackmesatech.com/2017/nss/trojan-horse\">\n",
      "    <page>\n",
      "    <para>Content on page 1 in paragraph 1 \n",
      "    </page>\n",
      "    <page>Content on page 2 in para 1 \n",
      "    </para>\n",
      "    <para>Content on page 2 in para 2\n",
      "    </para>\n",
      "    </page>\n",
      "</root>\n"
     ]
    }
   ],
   "source": [
    "# from xml.dom.minidom import Element, Text\n",
    "from xml.dom.pulldom import CHARACTERS, START_ELEMENT, parseString, END_ELEMENT\n",
    "\n",
    "output = []\n",
    "input ='''<?xml version=\"1.0\" encoding=\"UTF-8\"?>\n",
    "<root xmlns:th=\"http://www.blackmesatech.com/2017/nss/trojan-horse\">\n",
    "    <page th:sID=\"page1\"/>\n",
    "    <para th:sID=\"para1\"/>Content on page 1 in paragraph 1 \n",
    "    <page th:eID=\"page1\"/>\n",
    "    <page th:sID=\"page2\"/>Content on page 2 in para 1 \n",
    "    <para th:eID=\"para1\"/>\n",
    "    <para th:sID=\"para2\"/>Content on page 2 in para 2\n",
    "    <para th:eID=\"para2\"/>\n",
    "    <page th:eID=\"page2\"/>\n",
    "</root>'''\n",
    "for event, node in parseString(input):\n",
    "    if event == START_ELEMENT:\n",
    "        if node.hasAttribute('th:eID'):    \n",
    "            output.append('</')\n",
    "        else: # Trojan start tags and non-Trojan\n",
    "            output.append('<')\n",
    "        output.append(node.nodeName)\n",
    "        for attname, attvalue in node.attributes.items():\n",
    "            if not(attname.startswith('th:')):\n",
    "                output.append(' ' + attname + '=\"' + attvalue + '\"')\n",
    "        output.append('>')\n",
    "    if event == END_ELEMENT:\n",
    "        if node.hasAttribute('th:sID') or node.hasAttribute('th:eID'):\n",
    "            continue\n",
    "        else:\n",
    "            output.append('</' + node.localName + '>')\n",
    "    elif event == CHARACTERS:\n",
    "        output.append(node.data)\n",
    "print(\"\".join(output))"
   ]
  },
  {
   "cell_type": "code",
   "execution_count": 7,
   "metadata": {
    "collapsed": false
   },
   "outputs": [
    {
     "data": {
      "text/plain": [
       "'\"\\''"
      ]
     },
     "execution_count": 7,
     "metadata": {},
     "output_type": "execute_result"
    }
   ],
   "source": [
    "stuff = ['\"',\"'\"]\n",
    "''.join(stuff)"
   ]
  },
  {
   "cell_type": "code",
   "execution_count": null,
   "metadata": {
    "collapsed": true
   },
   "outputs": [],
   "source": []
  }
 ],
 "metadata": {
  "kernelspec": {
   "display_name": "Python 3",
   "language": "python",
   "name": "python3"
  },
  "language_info": {
   "codemirror_mode": {
    "name": "ipython",
    "version": 3
   },
   "file_extension": ".py",
   "mimetype": "text/x-python",
   "name": "python",
   "nbconvert_exporter": "python",
   "pygments_lexer": "ipython3",
   "version": "3.6.0"
  }
 },
 "nbformat": 4,
 "nbformat_minor": 2
}

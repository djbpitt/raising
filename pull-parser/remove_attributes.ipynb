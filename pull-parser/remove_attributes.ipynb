{
 "cells": [
  {
   "cell_type": "markdown",
   "metadata": {},
   "source": [
    "# `element.removeAttribute(attname)`\n",
    "\n",
    "## Example with simplified data"
   ]
  },
  {
   "cell_type": "code",
   "execution_count": 9,
   "metadata": {
    "collapsed": false
   },
   "outputs": [
    {
     "name": "stdout",
     "output_type": "stream",
     "text": [
      "<?xml version=\"1.0\" ?><root>\n",
      "    <p>This is a <word>paragraph</word> that contains\n",
      "    some stuff.</p>\n",
      "</root>\n"
     ]
    }
   ],
   "source": [
    "from xml.dom.pulldom import CHARACTERS, START_ELEMENT, parseString, END_ELEMENT\n",
    "from xml.dom.minidom import Document\n",
    "\n",
    "\n",
    "class Stack(list):\n",
    "    def push(self, item):\n",
    "        self.append(item)\n",
    "\n",
    "    def peek(self):\n",
    "        return self[-1]\n",
    "\n",
    "\n",
    "open_elements = Stack()\n",
    "d = Document()\n",
    "open_elements.push(d)\n",
    "\n",
    "input = '''<root>\n",
    "    <p start=\"p1\"/>This is a <word start=\"w1\"/>paragraph<word end=\"w1\"/> that contains\n",
    "    some stuff.<p end=\"p1\"/>\n",
    "</root>'''\n",
    "\n",
    "for event, node in parseString(input):\n",
    "    if event == START_ELEMENT:\n",
    "        if not node.hasAttribute('end'): # process pseudo-end-tags on END_ELEMENT event\n",
    "            open_elements.peek().appendChild(node)\n",
    "            open_elements.push(node)\n",
    "    elif event == END_ELEMENT:\n",
    "        if node.hasAttribute('start'): \n",
    "            node.removeAttribute('start') # can't remove @start until we're done with the node\n",
    "        else:\n",
    "            open_elements.pop()\n",
    "    elif event == CHARACTERS:\n",
    "        t = d.createTextNode(node.data)\n",
    "        open_elements.peek().appendChild(t)\n",
    "    else:\n",
    "        continue\n",
    "\n",
    "print(open_elements[0].toxml())"
   ]
  },
  {
   "cell_type": "markdown",
   "metadata": {},
   "source": [
    "So far, so good …"
   ]
  },
  {
   "cell_type": "markdown",
   "metadata": {},
   "source": [
    "## Now with real data!\n",
    "\n",
    "First take a look at the input file:"
   ]
  },
  {
   "cell_type": "code",
   "execution_count": 3,
   "metadata": {
    "collapsed": false
   },
   "outputs": [
    {
     "name": "stdout",
     "output_type": "stream",
     "text": [
      "<?xml version=\"1.0\" encoding=\"UTF-8\"?>\n",
      "<root xmlns:th=\"http://www.blackmesatech.com/2017/nss/trojan-horse\">\n",
      "    <p th:sID=\"d1e3\"/>This is a <word th:sID=\"d1e5\"/>paragraph<word th:eID=\"d1e5\"/> that contains\n",
      "    some <nonTrojan type=\"test\"/> stuff.<p th:eID=\"d1e3\"/>\n",
      "    <p th:sID=\"d1e9\"/>This is <emphasis role=\"bold\">another</emphasis> paragraph <phrase\n",
      "        th:sID=\"d1e11\"/><word th:sID=\"d1e12\"/>that<word th:eID=\"d1e12\"/>\n",
      "    <word th:sID=\"d1e15\"/>contains<word th:eID=\"d1e15\"/>\n",
      "    <word th:sID=\"d1e18\"/>more<word th:eID=\"d1e18\"/><phrase th:eID=\"d1e11\"/> stuff.<p th:eID=\"d1e9\"\n",
      "    />\n",
      "</root>\n",
      "\n"
     ]
    }
   ],
   "source": [
    "with open('flattened.xml') as input:\n",
    "    print(input.read())"
   ]
  },
  {
   "cell_type": "markdown",
   "metadata": {},
   "source": [
    "Transform it:"
   ]
  },
  {
   "cell_type": "code",
   "execution_count": 13,
   "metadata": {
    "collapsed": false
   },
   "outputs": [
    {
     "name": "stdout",
     "output_type": "stream",
     "text": [
      "<?xml version=\"1.0\" ?><root>\n",
      "    <p>This is a <word>paragraph</word> that contains\n",
      "    some <nonTrojan type=\"test\"/> stuff.</p>\n",
      "    <p>This is <emphasis role=\"bold\">another</emphasis> paragraph <phrase><word>that</word>\n",
      "    <word>contains</word>\n",
      "    <word>more</word></phrase> stuff.</p>\n",
      "</root>\n"
     ]
    }
   ],
   "source": [
    "from xml.dom.pulldom import CHARACTERS, START_ELEMENT, parseString, END_ELEMENT\n",
    "from xml.dom.minidom import Document\n",
    "\n",
    "\n",
    "class Stack(list):\n",
    "    def push(self, item):\n",
    "        self.append(item)\n",
    "\n",
    "    def peek(self):\n",
    "        return self[-1]\n",
    "\n",
    "\n",
    "open_elements = Stack()\n",
    "d = Document()\n",
    "open_elements.push(d)\n",
    "\n",
    "with open('flattened.xml') as input:\n",
    "    for event, node in parseString(input.read()):\n",
    "        if event == START_ELEMENT:\n",
    "            if not node.hasAttribute('th:eID'): # process pseudo-end-tags on END_ELEMENT event\n",
    "                open_elements.peek().appendChild(node)\n",
    "                open_elements.push(node)\n",
    "        elif event == END_ELEMENT:\n",
    "            if node.hasAttribute('xmlns:th'): # don't declare now-unused th: namespace\n",
    "                node.removeAttribute('xmlns:th')\n",
    "            if node.hasAttribute('th:sID'): # can't remove @start until we're done with the node\n",
    "                node.removeAttribute('th:sID') \n",
    "            else: # pop only on container elements and Trojan end-tags\n",
    "                open_elements.pop()\n",
    "        elif event == CHARACTERS:\n",
    "            t = d.createTextNode(node.data)\n",
    "            open_elements.peek().appendChild(t)\n",
    "        else:\n",
    "            continue\n",
    "\n",
    "print(open_elements[0].toxml())"
   ]
  }
 ],
 "metadata": {
  "kernelspec": {
   "display_name": "Python 3",
   "language": "python",
   "name": "python3"
  },
  "language_info": {
   "codemirror_mode": {
    "name": "ipython",
    "version": 3
   },
   "file_extension": ".py",
   "mimetype": "text/x-python",
   "name": "python",
   "nbconvert_exporter": "python",
   "pygments_lexer": "ipython3",
   "version": "3.6.5"
  }
 },
 "nbformat": 4,
 "nbformat_minor": 2
}

{
 "cells": [
  {
   "cell_type": "markdown",
   "metadata": {},
   "source": [
    "# What’s up with `element.removeAttribute(attname)`?\n",
    "\n",
    "The following example runs to completion and produces the desired output unless I uncomment the two commented lines to try to remove the `@start` attribute with `node.removeAttribute('start)`. Hmm ..."
   ]
  },
  {
   "cell_type": "code",
   "execution_count": 8,
   "metadata": {
    "collapsed": false
   },
   "outputs": [
    {
     "name": "stdout",
     "output_type": "stream",
     "text": [
      "<?xml version=\"1.0\" ?><root>\n",
      "    <p start=\"p1\">This is a <word start=\"w1\">paragraph</word> that contains\n",
      "    some stuff.</p>\n",
      "</root>\n"
     ]
    }
   ],
   "source": [
    "from xml.dom.pulldom import CHARACTERS, START_ELEMENT, parseString, END_ELEMENT\n",
    "from xml.dom.minidom import Document\n",
    "\n",
    "\n",
    "class Stack(list):\n",
    "    def push(self, item):\n",
    "        self.append(item)\n",
    "\n",
    "    def peek(self):\n",
    "        return self[-1]\n",
    "\n",
    "\n",
    "open_elements = Stack()\n",
    "d = Document()\n",
    "open_elements.push(d)\n",
    "\n",
    "input = '''<root>\n",
    "    <p start=\"p1\"/>This is a <word start=\"w1\"/>paragraph<word end=\"w1\"/> that contains\n",
    "    some stuff.<p end=\"p1\"/>\n",
    "</root>'''\n",
    "\n",
    "for event, node in parseString(input):\n",
    "    if event == START_ELEMENT and not node.hasAttribute('end'): # process pseudo-end-tags on END_ELEMENT event\n",
    "        open_elements.peek().appendChild(node)\n",
    "        open_elements.push(node)\n",
    "#         if node.hasAttribute('start'):\n",
    "#             node.removeAttribute('start')\n",
    "    elif event == END_ELEMENT and not node.hasAttribute('start'): # process pseudo-start-tags on START_ELEMENT event\n",
    "        open_elements.pop()\n",
    "    elif event == CHARACTERS:\n",
    "        t = d.createTextNode(node.data)\n",
    "        open_elements.peek().appendChild(t)\n",
    "    else:\n",
    "        continue\n",
    "\n",
    "print(open_elements[0].toxml())"
   ]
  },
  {
   "cell_type": "markdown",
   "metadata": {},
   "source": [
    "It isn’t clear (well, to me) why it isn’t possible to remove an attribute from an element without mangling the hierarchy. But since it isn’t, try cloning the node and working with the clone instead of the original."
   ]
  },
  {
   "cell_type": "markdown",
   "metadata": {},
   "source": [
    "## Cloning the node and removing the attribute from the clone works"
   ]
  },
  {
   "cell_type": "code",
   "execution_count": 25,
   "metadata": {
    "collapsed": false
   },
   "outputs": [
    {
     "name": "stdout",
     "output_type": "stream",
     "text": [
      "<root/>\n",
      "<p/>\n",
      "<word/>\n",
      "<?xml version=\"1.0\" ?><root>\n",
      "    <p>This is a <word>paragraph</word> that contains\n",
      "    some stuff.</p>\n",
      "</root>\n"
     ]
    }
   ],
   "source": [
    "from xml.dom.pulldom import CHARACTERS, START_ELEMENT, parseString, END_ELEMENT\n",
    "from xml.dom.minidom import Document\n",
    "\n",
    "\n",
    "class Stack(list):\n",
    "    def push(self, item):\n",
    "        self.append(item)\n",
    "\n",
    "    def peek(self):\n",
    "        return self[-1]\n",
    "\n",
    "\n",
    "open_elements = Stack()\n",
    "d = Document()\n",
    "open_elements.push(d)\n",
    "\n",
    "input = '''<root>\n",
    "    <p start=\"p1\"/>This is a <word start=\"w1\"/>paragraph<word end=\"w1\"/> that contains\n",
    "    some stuff.<p end=\"p1\"/>\n",
    "</root>'''\n",
    "\n",
    "for event, node in parseString(input):\n",
    "    if event == START_ELEMENT and not node.hasAttribute('end'): # process pseudo-end-tags on END_ELEMENT event\n",
    "        # Can’t remove attributes from the original, so work with a clone\n",
    "        clone = node.cloneNode(deep=False)\n",
    "        if clone.hasAttribute('start'):\n",
    "            clone.removeAttribute('start')\n",
    "        print(clone.toxml())\n",
    "        open_elements.peek().appendChild(clone)\n",
    "        open_elements.push(clone)\n",
    "    elif event == END_ELEMENT and not node.hasAttribute('start'): # process pseudo-start-tags on START_ELEMENT event\n",
    "        open_elements.pop()\n",
    "    elif event == CHARACTERS:\n",
    "        t = d.createTextNode(node.data)\n",
    "        open_elements.peek().appendChild(t)\n",
    "    else:\n",
    "        continue\n",
    "\n",
    "print(open_elements[0].toxml())"
   ]
  },
  {
   "cell_type": "markdown",
   "metadata": {},
   "source": [
    "So far, so good …"
   ]
  },
  {
   "cell_type": "markdown",
   "metadata": {},
   "source": [
    "## Now with real data!\n",
    "\n",
    "First take a look at the input file:"
   ]
  },
  {
   "cell_type": "code",
   "execution_count": 19,
   "metadata": {
    "collapsed": false
   },
   "outputs": [
    {
     "name": "stdout",
     "output_type": "stream",
     "text": [
      "<?xml version=\"1.0\" encoding=\"UTF-8\"?>\n",
      "<root xmlns:th=\"http://www.blackmesatech.com/2017/nss/trojan-horse\">\n",
      "    <p th:sID=\"d1e3\"/>This is a <word th:sID=\"d1e5\"/>paragraph<word th:eID=\"d1e5\"/> that contains\n",
      "    some <nonTrojan type=\"test\"/> stuff.<p th:eID=\"d1e3\"/>\n",
      "    <p th:sID=\"d1e9\"/>This is <emphasis role=\"bold\">another</emphasis> paragraph <phrase\n",
      "        th:sID=\"d1e11\"/><word th:sID=\"d1e12\"/>that<word th:eID=\"d1e12\"/>\n",
      "    <word th:sID=\"d1e15\"/>contains<word th:eID=\"d1e15\"/>\n",
      "    <word th:sID=\"d1e18\"/>more<word th:eID=\"d1e18\"/><phrase th:eID=\"d1e11\"/> stuff.<p th:eID=\"d1e9\"\n",
      "    />\n",
      "</root>\n",
      "\n"
     ]
    }
   ],
   "source": [
    "with open('flattened.xml') as input:\n",
    "    print(input.read())"
   ]
  },
  {
   "cell_type": "markdown",
   "metadata": {},
   "source": [
    "Then use the cloning method (full code repeated to keep everything in one place):"
   ]
  },
  {
   "cell_type": "code",
   "execution_count": 24,
   "metadata": {
    "collapsed": false
   },
   "outputs": [
    {
     "name": "stdout",
     "output_type": "stream",
     "text": [
      "<?xml version=\"1.0\" ?><root xmlns:th=\"http://www.blackmesatech.com/2017/nss/trojan-horse\">\n",
      "    <p>This is a <word>paragraph</word> that contains\n",
      "    some <nonTrojan type=\"test\"/> stuff.</p>\n",
      "    <p>This is <emphasis role=\"bold\">another</emphasis> paragraph <phrase><word>that</word>\n",
      "    <word>contains</word>\n",
      "    <word>more</word></phrase> stuff.</p>\n",
      "</root>\n"
     ]
    }
   ],
   "source": [
    "from xml.dom.pulldom import CHARACTERS, START_ELEMENT, parseString, END_ELEMENT\n",
    "from xml.dom.minidom import Document\n",
    "\n",
    "\n",
    "class Stack(list):\n",
    "    def push(self, item):\n",
    "        self.append(item)\n",
    "\n",
    "    def peek(self):\n",
    "        return self[-1]\n",
    "\n",
    "\n",
    "open_elements = Stack()\n",
    "d = Document()\n",
    "open_elements.push(d)\n",
    "\n",
    "with open('flattened.xml') as input:\n",
    "    for event, node in parseString(input.read()):\n",
    "        if event == START_ELEMENT and not node.hasAttribute('th:eID'): # process pseudo-end-tags on END_ELEMENT event\n",
    "            # Can’t remove attributes from the original, so work with a clone\n",
    "            clone = node.cloneNode(deep=False)\n",
    "            if clone.hasAttribute('th:sID'):\n",
    "                clone.removeAttribute('th:sID')\n",
    "            open_elements.peek().appendChild(clone)\n",
    "            open_elements.push(clone)\n",
    "        elif event == END_ELEMENT and not node.hasAttribute('th:sID'): # process pseudo-start-tags on START_ELEMENT event\n",
    "            open_elements.pop()\n",
    "        elif event == CHARACTERS:\n",
    "            t = d.createTextNode(node.data)\n",
    "            open_elements.peek().appendChild(t)\n",
    "        else:\n",
    "            continue\n",
    "\n",
    "print(open_elements[0].toxml())"
   ]
  },
  {
   "cell_type": "markdown",
   "metadata": {},
   "source": [
    "This is the desired output. Phew!"
   ]
  }
 ],
 "metadata": {
  "kernelspec": {
   "display_name": "Python 3",
   "language": "python",
   "name": "python3"
  },
  "language_info": {
   "codemirror_mode": {
    "name": "ipython",
    "version": 3
   },
   "file_extension": ".py",
   "mimetype": "text/x-python",
   "name": "python",
   "nbconvert_exporter": "python",
   "pygments_lexer": "ipython3",
   "version": "3.6.5"
  }
 },
 "nbformat": 4,
 "nbformat_minor": 2
}

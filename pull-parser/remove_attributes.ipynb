{
 "cells": [
  {
   "cell_type": "markdown",
   "metadata": {},
   "source": [
    "# What’s up with `element.removeAttribute(attname)`\n",
    "\n",
    "The following example runs to completion and produces the desired output unless I uncomment the two commented lines to try to remove the `@start` attribute with `node.removeAttribute('start)`. Hmm ..."
   ]
  },
  {
   "cell_type": "code",
   "execution_count": 8,
   "metadata": {
    "collapsed": false
   },
   "outputs": [
    {
     "name": "stdout",
     "output_type": "stream",
     "text": [
      "<?xml version=\"1.0\" ?><root>\n",
      "    <p start=\"p1\">This is a <word start=\"w1\">paragraph</word> that contains\n",
      "    some stuff.</p>\n",
      "</root>\n"
     ]
    }
   ],
   "source": [
    "from xml.dom.pulldom import CHARACTERS, START_ELEMENT, parseString, END_ELEMENT\n",
    "from xml.dom.minidom import Document\n",
    "\n",
    "\n",
    "class Stack(list):\n",
    "    def push(self, item):\n",
    "        self.append(item)\n",
    "\n",
    "    def peek(self):\n",
    "        return self[-1]\n",
    "\n",
    "\n",
    "open_elements = Stack()\n",
    "d = Document()\n",
    "open_elements.push(d)\n",
    "\n",
    "input = '''<root>\n",
    "    <p start=\"p1\"/>This is a <word start=\"w1\"/>paragraph<word end=\"w1\"/> that contains\n",
    "    some stuff.<p end=\"p1\"/>\n",
    "</root>'''\n",
    "\n",
    "for event, node in parseString(input):\n",
    "    if event == START_ELEMENT and not node.hasAttribute('end'): # process pseudo-end-tags on END_ELEMENT event\n",
    "        open_elements.peek().appendChild(node)\n",
    "        open_elements.push(node)\n",
    "#         if node.hasAttribute('start'):\n",
    "#             node.removeAttribute('start')\n",
    "    elif event == END_ELEMENT and not node.hasAttribute('start'): # process pseudo-start-tags on START_ELEMENT event\n",
    "        open_elements.pop()\n",
    "    elif event == CHARACTERS:\n",
    "        t = d.createTextNode(node.data)\n",
    "        open_elements.peek().appendChild(t)\n",
    "    else:\n",
    "        continue\n",
    "\n",
    "print(open_elements[0].toxml())"
   ]
  },
  {
   "cell_type": "markdown",
   "metadata": {},
   "source": [
    "## How about cloning the node and removing the attribute from the clone?"
   ]
  },
  {
   "cell_type": "code",
   "execution_count": 17,
   "metadata": {
    "collapsed": false
   },
   "outputs": [
    {
     "name": "stdout",
     "output_type": "stream",
     "text": [
      "<root/>\n",
      "<p/>\n",
      "<word/>\n",
      "<?xml version=\"1.0\" ?><root>\n",
      "    <p start=\"p1\">This is a <word start=\"w1\">paragraph</word> that contains\n",
      "    some stuff.</p>\n",
      "</root>\n"
     ]
    }
   ],
   "source": [
    "from xml.dom.pulldom import CHARACTERS, START_ELEMENT, parseString, END_ELEMENT\n",
    "from xml.dom.minidom import Document\n",
    "\n",
    "\n",
    "class Stack(list):\n",
    "    def push(self, item):\n",
    "        self.append(item)\n",
    "\n",
    "    def peek(self):\n",
    "        return self[-1]\n",
    "\n",
    "\n",
    "open_elements = Stack()\n",
    "d = Document()\n",
    "open_elements.push(d)\n",
    "\n",
    "input = '''<root>\n",
    "    <p start=\"p1\"/>This is a <word start=\"w1\"/>paragraph<word end=\"w1\"/> that contains\n",
    "    some stuff.<p end=\"p1\"/>\n",
    "</root>'''\n",
    "\n",
    "for event, node in parseString(input):\n",
    "    if event == START_ELEMENT and not node.hasAttribute('end'): # process pseudo-end-tags on END_ELEMENT event\n",
    "        clone = node.cloneNode(deep=False)\n",
    "        if clone.hasAttribute('start'):\n",
    "            clone.removeAttribute('start')\n",
    "        print(clone.toxml())\n",
    "        open_elements.peek().appendChild(node)\n",
    "        open_elements.push(node)\n",
    "    elif event == END_ELEMENT and not node.hasAttribute('start'): # process pseudo-start-tags on START_ELEMENT event\n",
    "        open_elements.pop()\n",
    "    elif event == CHARACTERS:\n",
    "        t = d.createTextNode(node.data)\n",
    "        open_elements.peek().appendChild(t)\n",
    "    else:\n",
    "        continue\n",
    "\n",
    "print(open_elements[0].toxml())"
   ]
  },
  {
   "cell_type": "code",
   "execution_count": null,
   "metadata": {
    "collapsed": true
   },
   "outputs": [],
   "source": []
  }
 ],
 "metadata": {
  "kernelspec": {
   "display_name": "Python 3",
   "language": "python",
   "name": "python3"
  },
  "language_info": {
   "codemirror_mode": {
    "name": "ipython",
    "version": 3
   },
   "file_extension": ".py",
   "mimetype": "text/x-python",
   "name": "python",
   "nbconvert_exporter": "python",
   "pygments_lexer": "ipython3",
   "version": "3.6.5"
  }
 },
 "nbformat": 4,
 "nbformat_minor": 2
}

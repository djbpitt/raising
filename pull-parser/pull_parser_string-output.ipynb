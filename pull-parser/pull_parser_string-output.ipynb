{
 "cells": [
  {
   "cell_type": "markdown",
   "metadata": {},
   "source": [
    "# Pull parser with string output\n",
    "\n",
    "## Check the input XML"
   ]
  },
  {
   "cell_type": "code",
   "execution_count": 1,
   "metadata": {
    "collapsed": false
   },
   "outputs": [
    {
     "name": "stdout",
     "output_type": "stream",
     "text": [
      "<?xml version=\"1.0\" encoding=\"UTF-8\"?>\n",
      "<root xmlns:th=\"http://www.blackmesatech.com/2017/nss/trojan-horse\">\n",
      "    <p th:sID=\"d1e3\"/>This is a <word th:sID=\"d1e5\"/>paragraph<word th:eID=\"d1e5\"/> that contains\n",
      "    some <nonTrojan type=\"test\"/> stuff.<p th:eID=\"d1e3\"/>\n",
      "    <p th:sID=\"d1e9\"/>This is <emphasis role=\"bold\">another</emphasis> paragraph <phrase\n",
      "        th:sID=\"d1e11\"/><word th:sID=\"d1e12\"/>that<word th:eID=\"d1e12\"/>\n",
      "    <word th:sID=\"d1e15\"/>contains<word th:eID=\"d1e15\"/>\n",
      "    <word th:sID=\"d1e18\"/>more<word th:eID=\"d1e18\"/><phrase th:eID=\"d1e11\"/> stuff.<p th:eID=\"d1e9\"\n",
      "    />\n",
      "</root>\n",
      "\n"
     ]
    }
   ],
   "source": [
    "with open('flattened.xml') as input:\n",
    "    print(input.read())"
   ]
  },
  {
   "cell_type": "markdown",
   "metadata": {},
   "source": [
    "## Transform it"
   ]
  },
  {
   "cell_type": "code",
   "execution_count": 2,
   "metadata": {
    "collapsed": false
   },
   "outputs": [
    {
     "name": "stdout",
     "output_type": "stream",
     "text": [
      "<root xmlns:th=\"http://www.blackmesatech.com/2017/nss/trojan-horse\">\n",
      "    <p>This is a <word>paragraph</word> that contains\n",
      "    some <nonTrojan type=\"test\"></nonTrojan> stuff.</p>\n",
      "    <p>This is <emphasis role=\"bold\">another</emphasis> paragraph <phrase><word>that</word>\n",
      "    <word>contains</word>\n",
      "    <word>more</word></phrase> stuff.</p>\n",
      "</root>\n"
     ]
    }
   ],
   "source": [
    "from xml.dom.pulldom import CHARACTERS, START_ELEMENT, parseString, END_ELEMENT\n",
    "\n",
    "output = []\n",
    "with open('flattened.xml') as input:\n",
    "    for event, node in parseString(input.read()):\n",
    "        if event == START_ELEMENT:\n",
    "            if node.hasAttribute('th:eID'):    \n",
    "                output.append('</')\n",
    "            else: # Trojan start tags and non-Trojan\n",
    "                output.append('<')\n",
    "            output.append(node.nodeName)\n",
    "            for attname, attvalue in node.attributes.items():\n",
    "                if not(attname.startswith('th:')):\n",
    "                    output.append(' ' + attname + '=\"' + attvalue + '\"')\n",
    "            output.append('>')\n",
    "        if event == END_ELEMENT:\n",
    "            if not node.hasAttribute('th:sID') and not node.hasAttribute('th:eID'):\n",
    "                output.append('</' + node.localName + '>')\n",
    "        elif event == CHARACTERS:\n",
    "            output.append(node.data)\n",
    "print(\"\".join(output))"
   ]
  }
 ],
 "metadata": {
  "kernelspec": {
   "display_name": "Python 3",
   "language": "python",
   "name": "python3"
  },
  "language_info": {
   "codemirror_mode": {
    "name": "ipython",
    "version": 3
   },
   "file_extension": ".py",
   "mimetype": "text/x-python",
   "name": "python",
   "nbconvert_exporter": "python",
   "pygments_lexer": "ipython3",
   "version": "3.6.0"
  }
 },
 "nbformat": 4,
 "nbformat_minor": 2
}

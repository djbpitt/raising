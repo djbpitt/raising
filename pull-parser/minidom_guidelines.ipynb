{
 "cells": [
  {
   "cell_type": "markdown",
   "metadata": {},
   "source": [
    "# Using `minidom`\n",
    "\n",
    "## General\n",
    "\n",
    "`minidom` can be used to create well-formed XML output with namespaces. It can also create output that is not well formed, especially with respect to namespaces, because it is only partially namespace-aware. This matters a lot if you are going to explore a document that you construct with `minidom`. If you are going to serialize the document as soon as you’ve built it, all that matters is that the serialization can be parsed correctly, even if the document before serialization is a `minidom` mess.\n",
    "\n",
    "## Read this first\n",
    "\n",
    "Import just `Document`. Elements and `text()` nodes are created through methods of the `Document` instance, and not directly from the `Element` or `Text` classes.\n",
    "\n",
    "* Create a document node with `d = Document()`\n",
    "* Create an element (any element) with `d.createElement('gi')`, where `'gi'` is the element name\n",
    "* Create a `text()` node with `d.createTextNode('content')`, where `'content'` is a string that contains the content of the text node\n",
    "* Create an attribute on an element with `parent.setAttribute('name', 'value')`, where both `'name'` and `'value'` are strings (even if the attribute represents a numerical value)\n",
    "* Place a new node (element or `text()` in the tree with `parent.appendChild(child)`, where `parent` is the parent node and `child` is the new child that is being added\n",
    "\n",
    "## Example without namespaces"
   ]
  },
  {
   "cell_type": "code",
   "execution_count": 1,
   "metadata": {
    "collapsed": false
   },
   "outputs": [
    {
     "name": "stdout",
     "output_type": "stream",
     "text": [
      "<?xml version=\"1.0\" ?><root><new number=\"1\" type=\"experimental\">hi, mom!</new></root>\n",
      "---\n",
      "<?xml version=\"1.0\" ?>\n",
      "<root>\n",
      "\t<new number=\"1\" type=\"experimental\">hi, mom!</new>\n",
      "</root>\n",
      "\n"
     ]
    }
   ],
   "source": [
    "from xml.dom.minidom import Document\n",
    "\n",
    "d = Document() # Create a document node\n",
    "root = d.createElement('root') # Create a root element (same as creating any element)\n",
    "d.appendChild(root) # Make the new element a child of the document node\n",
    "new = d.createElement('new') # Create another element\n",
    "root.appendChild(new) # Make the new element a child of the root\n",
    "new.setAttribute('type', 'experimental') # Set an attribute on the new element\n",
    "new.setAttribute('number', '1') # Set another attribute, with a string value even though it’s a number\n",
    "text = d.createTextNode('hi, mom!') # Create a text() node\n",
    "new.appendChild(text) # Make the text() node a child of one of the elements\n",
    "print(d.toxml()) # Serialize\n",
    "print(\"---\") # Visual separator, just for appearances\n",
    "print(d.toprettyxml()) # Or pretty-print the serialization"
   ]
  },
  {
   "cell_type": "markdown",
   "metadata": {},
   "source": [
    "### Working with namespaces\n",
    "\n",
    "* Create an element in a namespace with `new = d.createElementNS('http://www.tei-c.org/ns/1.0''TEI')`. The first argument is the namespace URI and the second is the qualified element name. A prefix on the qualified name is optional. `minidom` writes the prefix when you specify it and not when you don’t. It’s up to the user to specify the prefix when it’s needed.\n",
    "* Create an attribute in a namespace with `parent.setAttributeNS('http://www.obdurodon.org', 'djb:note', 'hi, mom!')`. `parent` is the parent of the new attribute; the arguments to the method are 1) namespace URI, 2) qualified attribute name, 3) attribute value (as a string). Attribute creation has the same namespace oddity about prefixes as element creation.\n",
    "* `minidom` doesn’t write namespace declarations on serialization! As a result, declaring namespaces and binding them to prefixes requires a hack: `root.setAttribute(\"xmlns\", \"http://example.net/ns\")` It you don’t do this, you risk using prefixes without binding them, which is not well formed.\n",
    "\n",
    "### Two perspectives on creating XML with `minidom`\n",
    "\n",
    "If your only goal in creating an XML document with `minidom` is to serialize it, the only strict requirement is that the serialization be well formed, and that it express your intention, so that it will be parsed correctly downstream. This means, for example, that you can create an element with a namespace prefix without actually creating the element in the namespace, e.g. by using `imposter = d.createElement('tei:imposter')` instead of `imposter = d.createElementNS('http://www.tei-c.org/ns/1.0', 'tei:imposter')`. Doing this will let you serialize your document correctly, but you won’t be able to interact with it because it will be lying about its markup.\n",
    "\n",
    "If you need to interact with the document you are creating using `getElementsByTagNameNS()` or something similar, you must create elements (and attributes) with namespaces correctly. If you do this, you will be able to interact with your document correctly (see the examples of `getElementsByTagNameNS()`, below), but it will not be serialized correctly unless you have also taken care to write your own namespace declarations, and to use prefixes where needed.\n",
    "\n",
    "### Example with namespaces"
   ]
  },
  {
   "cell_type": "code",
   "execution_count": 2,
   "metadata": {
    "collapsed": false
   },
   "outputs": [
    {
     "name": "stdout",
     "output_type": "stream",
     "text": [
      "<?xml version=\"1.0\" ?>\n",
      "<TEI xmlns=\"http://www.tei-c.org/ns/1.0\" xmlns:djb=\"http://www.obdurdon.org\" xmlns:tei=\"http://www.tei-c.org/ns/1.0\">\n",
      "\t<teiHeader>\n",
      "\t\t<tei:fileDesc djb:note=\"hi, mom!\">\n",
      "\t\t\t<interloper/>\n",
      "\t\t\t<tei:imposter/>\n",
      "\t\t</tei:fileDesc>\n",
      "\t</teiHeader>\n",
      "</TEI>\n",
      "\n"
     ]
    }
   ],
   "source": [
    "from xml.dom.minidom import Document\n",
    "\n",
    "d = Document() # Create a document node\n",
    "root = d.createElementNS('http://www.tei-c.org/ns/1.0', 'TEI') \n",
    "root.setAttribute(\"xmlns\", \"http://www.tei-c.org/ns/1.0\") # minidom won’t write the namespace declaration otherwise\n",
    "root.setAttribute(\"xmlns:tei\", \"http://www.tei-c.org/ns/1.0\") # ditto\n",
    "root.setAttribute(\"xmlns:djb\", \"http://www.obdurdon.org\") # ditto\n",
    "d.appendChild(root)\n",
    "teiHeader = d.createElementNS('http://www.tei-c.org/ns/1.0','teiHeader') # no prefix, for no particular reason\n",
    "root.appendChild(teiHeader)\n",
    "fileDesc = d.createElementNS('http://www.tei-c.org/ns/1.0','tei:fileDesc') #with prefix, for no particular reason\n",
    "fileDesc.setAttributeNS('http://www.obdurodon.org', 'djb:note', 'hi, mom!')\n",
    "teiHeader.appendChild(fileDesc)\n",
    "interloper = d.createElement('interloper') # not in a namespace\n",
    "fileDesc.appendChild(interloper)\n",
    "imposter = d.createElement('tei:imposter') # prefix, but not in a namespace\n",
    "fileDesc.appendChild(imposter)\n",
    "print(d.toprettyxml())"
   ]
  },
  {
   "cell_type": "markdown",
   "metadata": {},
   "source": [
    "To verify that the document is namespace-aware internally, run the following. The first two should create output; the last three shoudl not.\n",
    "\n",
    "The first two should find the namespaced element because it really is namespaced. #3 finds nothing because although we serialize the document with a declaration that makes the TEI namespace the default for elements without namespace prefixes, `<interloper>` nonetheless is not in a namespace because we didn’t create it in one. #4 finds nothing because we also didn’t create it in a namespace. We (ab)used the `tei:` prefix, and that gets serialized, but the element nonetheless isn’t really in the TEI namespace. #5 finds nothing because `getElementsByTagNameNS()` does not permit the prefix, regardless of whether it was used when the element was created."
   ]
  },
  {
   "cell_type": "code",
   "execution_count": 3,
   "metadata": {
    "collapsed": false
   },
   "outputs": [
    {
     "name": "stdout",
     "output_type": "stream",
     "text": [
      "[<DOM Element: teiHeader at 0x102439f20>]\n",
      "[<DOM Element: tei:fileDesc at 0x102439df0>]\n",
      "[]\n",
      "[]\n",
      "[]\n"
     ]
    }
   ],
   "source": [
    "print(d.getElementsByTagNameNS('http://www.tei-c.org/ns/1.0', 'teiHeader')) # no prefix in doc, but in a namespace\n",
    "print(d.getElementsByTagNameNS('http://www.tei-c.org/ns/1.0', 'fileDesc')) # prefix in doc, and in a namespace\n",
    "print(d.getElementsByTagNameNS('http://www.tei-c.org/ns/1.0', 'interloper')) # knows it isn't in the TEI namespace\n",
    "print(d.getElementsByTagNameNS('http://www.tei-c.org/ns/1.0', 'imposter')) # knows it isn't in the TEI namespace, despite fake prefix in doc\n",
    "print(d.getElementsByTagNameNS('http://www.tei-c.org/ns/1.0', 'tei:fileDesc')) # doesn’t accept the prefix here"
   ]
  },
  {
   "cell_type": "markdown",
   "metadata": {},
   "source": [
    "### Namespace summary\n",
    "\n",
    "`minidom` is only partially namespace-aware. It will create broken documents with namespace errors unless the user takes steps to prevent it. All of the peculiarities listed below can result in creating documents that are not well formed.\n",
    "\n",
    "* Whether `minidom` writes the prefix into a serialization depends only on whether the prefix was specified when the element was created. It has nothing to do with whether the element is really in a namespace. It is possible to create and serialize an element with a namespace prefix that is not really in the namespace. It is also possible to create an element in a namespace without a prefix and when you serialize it, it will emerge without a prefix, which means that in the serialization it will be in whatever the default namespace is for its context.\n",
    "* `minidom` will not write namespace declarations (default or prefix-binding) unless you create them explicitly as attributes. This means that you can create an element with a prefix and serialize output where the prefix is not actually declared, which would not be well-formed.\n",
    "* `minidom` will let you create and serialize an element with a namespace prefix with `createElement()` even though the element is not really in a namespace. An element is in a namespace only if it is created with `createElementNS()`."
   ]
  }
 ],
 "metadata": {
  "kernelspec": {
   "display_name": "Python 3",
   "language": "python",
   "name": "python3"
  },
  "language_info": {
   "codemirror_mode": {
    "name": "ipython",
    "version": 3
   },
   "file_extension": ".py",
   "mimetype": "text/x-python",
   "name": "python",
   "nbconvert_exporter": "python",
   "pygments_lexer": "ipython3",
   "version": "3.6.0"
  }
 },
 "nbformat": 4,
 "nbformat_minor": 2
}

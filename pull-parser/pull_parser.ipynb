{
 "cells": [
  {
   "cell_type": "code",
   "execution_count": 11,
   "metadata": {
    "collapsed": false
   },
   "outputs": [
    {
     "name": "stdout",
     "output_type": "stream",
     "text": [
      "<root>\n",
      "    <p>This is a <word>paragraph</word> that contains some stuff.</p>\n",
      "    <p>This is <emph>another</emph> paragraph <phrase><word>that</word>\n",
      "            <word>contains</word>\n",
      "            <word>more</word></phrase> stuff.</p></root>\n"
     ]
    }
   ],
   "source": [
    "# from xml.dom.minidom import Element, Text\n",
    "from xml.dom.pulldom import CHARACTERS, START_ELEMENT, parseString, END_ELEMENT\n",
    "\n",
    "input = '''<?xml version=\"1.0\" encoding=\"UTF-8\"?><root xmlns:th=\"http://www.blackmesatech.com/2017/nss/trojan-horse\">\n",
    "    <p th:sID=\"d1e3\"/>This is a <word th:sID=\"d1e5\"/>paragraph<word th:eID=\"d1e5\"/> that contains some stuff.<p th:eID=\"d1e3\"/>\n",
    "    <p th:sID=\"d1e9\"/>This is <emph type=\"stuff\">another</emph> paragraph <phrase th:sID=\"d1e11\"/><word th:sID=\"d1e12\"/>that<word th:eID=\"d1e12\"/>\n",
    "            <word th:sID=\"d1e15\"/>contains<word th:eID=\"d1e15\"/>\n",
    "            <word th:sID=\"d1e18\"/>more<word th:eID=\"d1e18\"/><phrase th:eID=\"d1e11\"/> stuff.<p th:eID=\"d1e9\"/></root>'''\n",
    "output = []\n",
    "\n",
    "for event, node in parseString(input):\n",
    "    if event == START_ELEMENT:\n",
    "        \n",
    "        if node.hasAttribute('th:sID'):    \n",
    "            output.append('<' + node.localName + '>')\n",
    "        elif node.hasAttribute('th:eID'):\n",
    "            output.append('</' + node.localName + '>')\n",
    "        else:\n",
    "            output.append('<' + node.localName + '>')\n",
    "    if event == END_ELEMENT:\n",
    "        if node.hasAttribute('th:sID') or node.hasAttribute('th:eID'):\n",
    "            continue\n",
    "        else:\n",
    "            output.append('</' + node.localName + '>')\n",
    "    elif event == CHARACTERS:\n",
    "        output.append(node.data)\n",
    "print(\"\".join(output))"
   ]
  },
  {
   "cell_type": "code",
   "execution_count": null,
   "metadata": {
    "collapsed": true
   },
   "outputs": [],
   "source": []
  }
 ],
 "metadata": {
  "kernelspec": {
   "display_name": "Python 3",
   "language": "python",
   "name": "python3"
  },
  "language_info": {
   "codemirror_mode": {
    "name": "ipython",
    "version": 3
   },
   "file_extension": ".py",
   "mimetype": "text/x-python",
   "name": "python",
   "nbconvert_exporter": "python",
   "pygments_lexer": "ipython3",
   "version": "3.6.0"
  }
 },
 "nbformat": 4,
 "nbformat_minor": 2
}

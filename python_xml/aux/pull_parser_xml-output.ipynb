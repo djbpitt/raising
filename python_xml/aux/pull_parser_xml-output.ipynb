{
 "cells": [
  {
   "cell_type": "markdown",
   "metadata": {},
   "source": [
    "# Pull parser with string output\n",
    "\n",
    "## Examine the input XML"
   ]
  },
  {
   "cell_type": "code",
   "execution_count": 1,
   "metadata": {
    "collapsed": false
   },
   "outputs": [
    {
     "name": "stdout",
     "output_type": "stream",
     "text": [
      "<?xml version=\"1.0\" encoding=\"UTF-8\"?>\n",
      "<root xmlns:th=\"http://www.blackmesatech.com/2017/nss/trojan-horse\">\n",
      "    <p th:sID=\"d1e3\"/>This is a <word th:sID=\"d1e5\"/>paragraph<word th:eID=\"d1e5\"/> that contains\n",
      "    some <nonTrojan type=\"test\"/> stuff.<p th:eID=\"d1e3\"/>\n",
      "    <p th:sID=\"d1e9\"/>This is <emphasis role=\"bold\">another</emphasis> paragraph <phrase\n",
      "        th:sID=\"d1e11\"/><word th:sID=\"d1e12\"/>that<word th:eID=\"d1e12\"/>\n",
      "    <word th:sID=\"d1e15\"/>contains<word th:eID=\"d1e15\"/>\n",
      "    <word th:sID=\"d1e18\"/>more<word th:eID=\"d1e18\"/><phrase th:eID=\"d1e11\"/> stuff.<p th:eID=\"d1e9\"\n",
      "    />\n",
      "</root>\n",
      "\n"
     ]
    }
   ],
   "source": [
    "with open('flattened.xml') as input:\n",
    "    print(input.read())"
   ]
  },
  {
   "cell_type": "markdown",
   "metadata": {},
   "source": [
    "## Transform it"
   ]
  },
  {
   "cell_type": "code",
   "execution_count": 18,
   "metadata": {
    "collapsed": false
   },
   "outputs": [
    {
     "name": "stdout",
     "output_type": "stream",
     "text": [
      "<?xml version=\"1.0\" ?><root>\n",
      "    <p>This is a <word>paragraph</word> that contains\n",
      "    some <nonTrojan type=\"test\"/> stuff.</p>\n",
      "    <p>This is <emphasis role=\"bold\">another</emphasis> paragraph <phrase><word>that</word>\n",
      "    <word>contains</word>\n",
      "    <word>more</word></phrase> stuff.</p>\n",
      "</root>\n"
     ]
    }
   ],
   "source": [
    "from xml.dom.pulldom import CHARACTERS, START_ELEMENT, parseString, END_ELEMENT\n",
    "from xml.dom.minidom import Document\n",
    "\n",
    "\n",
    "class Stack(list):\n",
    "    def push(self, item):\n",
    "        self.append(item)\n",
    "\n",
    "    def peek(self):\n",
    "        return self[-1]\n",
    "\n",
    "\n",
    "open_elements = Stack()\n",
    "d = Document()\n",
    "open_elements.push(d)\n",
    "\n",
    "with open('flattened.xml') as input:\n",
    "    for event, node in parseString(input.read()):\n",
    "        if event == START_ELEMENT and not node.hasAttribute('th:eID'): # process pseudo-end-tags on END_ELEMENT event\n",
    "            # Can’t remove attributes from the original, so work with a clone\n",
    "            clone = node.cloneNode(deep=False)\n",
    "            if clone.hasAttribute('th:sID'):\n",
    "                clone.removeAttribute('th:sID')\n",
    "            if clone.hasAttribute('xmlns:th'):\n",
    "                clone.removeAttribute('xmlns:th')\n",
    "            open_elements.peek().appendChild(clone)\n",
    "            open_elements.push(clone)\n",
    "        elif event == END_ELEMENT and not node.hasAttribute('th:sID'): # process pseudo-start-tags on START_ELEMENT event\n",
    "            open_elements.pop()\n",
    "        elif event == CHARACTERS:\n",
    "            t = d.createTextNode(node.data)\n",
    "            open_elements.peek().appendChild(t)\n",
    "        else:\n",
    "            continue\n",
    "\n",
    "result = open_elements[0].toxml()\n",
    "print(result)"
   ]
  },
  {
   "cell_type": "markdown",
   "metadata": {},
   "source": [
    "## What happens if the document cannot be raised entirely?\n",
    "\n",
    "Here’s an alternative flattened document, one that is well formed in it’s flattened versions, but it cannot be raised without creating overlap:"
   ]
  },
  {
   "cell_type": "code",
   "execution_count": 3,
   "metadata": {
    "collapsed": false
   },
   "outputs": [
    {
     "name": "stdout",
     "output_type": "stream",
     "text": [
      "<?xml version=\"1.0\" encoding=\"UTF-8\"?>\n",
      "<root xmlns:th=\"http://www.blackmesatech.com/2017/nss/trojan-horse\">\n",
      "    <page th:sID=\"page1\"/>\n",
      "    <para th:sID=\"para1\"/>Content on page 1 in paragraph 1 \n",
      "    <page th:eID=\"page1\"/>\n",
      "    <page th:sID=\"page2\"/>Content on page 2 in para 1 \n",
      "    <para th:eID=\"para1\"/>\n",
      "    <para th:sID=\"para2\"/>Content on page 2 in para 2\n",
      "    <para th:eID=\"para2\"/>\n",
      "    <page th:eID=\"page2\"/>\n",
      "</root>\n",
      "\n"
     ]
    }
   ],
   "source": [
    "with open('overlap.xml') as input:\n",
    "    print(input.read())"
   ]
  },
  {
   "cell_type": "markdown",
   "metadata": {},
   "source": [
    "Let’s try raising it. There are three possible results:\n",
    "\n",
    "1. Errors out.\n",
    "1. Writes ill-formed output. This shouldn’t be possible, since the output construction is XML-aware.\n",
    "1. Raises only as much as it can, and leaves the rest flattened. This is the desired output, and it’s what happens with inside-out recursion.\n",
    "1. Well-formed output that raises all elements. This cannot represent the actual flattened structure because the actual flattened structure cannot be represented with well-formed XML that uses only container elements, and no Trojan milestones."
   ]
  },
  {
   "cell_type": "code",
   "execution_count": 24,
   "metadata": {
    "collapsed": false
   },
   "outputs": [
    {
     "name": "stdout",
     "output_type": "stream",
     "text": [
      "<?xml version=\"1.0\" ?><root>\n",
      "    <page>\n",
      "    <para>Content on page 1 in paragraph 1 \n",
      "    </para>\n",
      "    <page>Content on page 2 in para 1 \n",
      "    </page>\n",
      "    <para>Content on page 2 in para 2\n",
      "    </para>\n",
      "    </page>\n",
      "</root>\n"
     ]
    }
   ],
   "source": [
    "from xml.dom.pulldom import CHARACTERS, START_ELEMENT, parseString, END_ELEMENT\n",
    "from xml.dom.minidom import Document\n",
    "\n",
    "\n",
    "class Stack(list):\n",
    "    def push(self, item):\n",
    "        self.append(item)\n",
    "\n",
    "    def peek(self):\n",
    "        return self[-1]\n",
    "\n",
    "\n",
    "open_elements = Stack()\n",
    "d = Document()\n",
    "open_elements.push(d)\n",
    "\n",
    "with open('overlap.xml') as input:\n",
    "    for event, node in parseString(input.read()):\n",
    "        if event == START_ELEMENT and not node.hasAttribute('th:eID'): # process pseudo-end-tags on END_ELEMENT event\n",
    "            # Can’t remove attributes from the original, so work with a clone\n",
    "            clone = node.cloneNode(deep=False)\n",
    "            if clone.hasAttribute('th:sID'):\n",
    "                clone.removeAttribute('th:sID')\n",
    "            if clone.hasAttribute('xmlns:th'):\n",
    "                clone.removeAttribute('xmlns:th')\n",
    "            open_elements.peek().appendChild(clone)\n",
    "            open_elements.push(clone)\n",
    "        elif event == END_ELEMENT and not node.hasAttribute('th:sID'): # process pseudo-start-tags on START_ELEMENT event\n",
    "            open_elements.pop()\n",
    "        elif event == CHARACTERS:\n",
    "            t = d.createTextNode(node.data)\n",
    "            open_elements.peek().appendChild(t)\n",
    "        else:\n",
    "            continue\n",
    "\n",
    "result = open_elements[0].toxml()\n",
    "print(result)"
   ]
  },
  {
   "cell_type": "markdown",
   "metadata": {},
   "source": [
    "We get result #4: well-formed XML that includes all elements from the original, but imposes a (possibly counterintuitive or undesired) hierarchy."
   ]
  }
 ],
 "metadata": {
  "kernelspec": {
   "display_name": "Python 3",
   "language": "python",
   "name": "python3"
  },
  "language_info": {
   "codemirror_mode": {
    "name": "ipython",
    "version": 3
   },
   "file_extension": ".py",
   "mimetype": "text/x-python",
   "name": "python",
   "nbconvert_exporter": "python",
   "pygments_lexer": "ipython3",
   "version": "3.6.5"
  }
 },
 "nbformat": 4,
 "nbformat_minor": 2
}
